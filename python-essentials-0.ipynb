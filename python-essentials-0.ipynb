{
 "cells": [
  {
   "attachments": {},
   "cell_type": "markdown",
   "metadata": {},
   "source": [
    "1. Boolean Values:\n",
    "Boolean values represent the truthfulness of an expression and can have two possible values: True or False. They are fundamental for conditional statements and control flow in Python. For example:"
   ]
  },
  {
   "cell_type": "code",
   "execution_count": 2,
   "metadata": {},
   "outputs": [
    {
     "name": "stdout",
     "output_type": "stream",
     "text": [
      "True\n",
      "False\n"
     ]
    }
   ],
   "source": [
    "is_sunny = True\n",
    "is_raining = False\n",
    "\n",
    "print(is_sunny)   # Output: True\n",
    "print(is_raining) # Output: False"
   ]
  },
  {
   "attachments": {},
   "cell_type": "markdown",
   "metadata": {},
   "source": [
    "2. Conditional Execution (if-else):\n",
    "Conditional execution allows you to run different blocks of code based on certain conditions. It uses the if, else if (or elif), and else keywords. Here's an example:"
   ]
  },
  {
   "cell_type": "code",
   "execution_count": 3,
   "metadata": {},
   "outputs": [
    {
     "name": "stdout",
     "output_type": "stream",
     "text": [
      "x is 5 or less\n"
     ]
    }
   ],
   "source": [
    "x = 5\n",
    "\n",
    "if x > 10:\n",
    "    print(\"x is greater than 10\")\n",
    "elif x > 5:\n",
    "    print(\"x is greater than 5\")\n",
    "else:\n",
    "    print(\"x is 5 or less\")\n"
   ]
  },
  {
   "attachments": {},
   "cell_type": "markdown",
   "metadata": {},
   "source": [
    "3. Loops:\n",
    "Loops allow you to repeat a block of code multiple times. Python has two main types of loops: for loop and while loop. Here's an example of a for loop:"
   ]
  },
  {
   "cell_type": "code",
   "execution_count": null,
   "metadata": {},
   "outputs": [],
   "source": [
    "fruits = [\"apple\", \"banana\", \"orange\"]\n",
    "\n",
    "for fruit in fruits:\n",
    "    print(fruit)\n"
   ]
  },
  {
   "attachments": {},
   "cell_type": "markdown",
   "metadata": {},
   "source": [
    "4. Lists and List Processing:\n",
    "Lists are ordered collections of items that can hold different types of values. They are mutable, meaning you can modify their elements. Here's an example:"
   ]
  },
  {
   "cell_type": "code",
   "execution_count": null,
   "metadata": {},
   "outputs": [],
   "source": [
    "numbers = [1, 2, 3, 4, 5]\n",
    "names = [\"Alice\", \"Bob\", \"Charlie\"]\n",
    "\n",
    "print(numbers[0])     # Output: 1\n",
    "print(names[2])       # Output: Charlie\n",
    "\n",
    "numbers.append(6)\n",
    "print(numbers)        # Output: [1, 2, 3, 4, 5, 6]\n"
   ]
  },
  {
   "attachments": {},
   "cell_type": "markdown",
   "metadata": {},
   "source": [
    "5. Logical and Bitwise Operations:\n",
    "Logical operations (and, or, not) and bitwise operations (&, |, ~) are used to manipulate boolean values or binary representations of numbers. Here's an example of logical operations:"
   ]
  },
  {
   "cell_type": "code",
   "execution_count": 4,
   "metadata": {},
   "outputs": [
    {
     "name": "stdout",
     "output_type": "stream",
     "text": [
      "False\n",
      "True\n",
      "False\n",
      "2\n",
      "14\n",
      "-11\n"
     ]
    }
   ],
   "source": [
    "x = True\n",
    "y = False\n",
    "\n",
    "print(x and y)    # Output: False\n",
    "print(x or y)     # Output: True\n",
    "print(not x)      # Output: False\n",
    "\n",
    "### Bitwise AND (&):\n",
    "\n",
    "a = 10   # 1010 in binary\n",
    "b = 6    # 0110 in binary\n",
    "\n",
    "result = a & b\n",
    "print(result)   # Output: 2 (0010 in binary)\n",
    "\n",
    "\n",
    "### Bitwise OR (|):\n",
    "\n",
    "a = 10   # 1010 in binary\n",
    "b = 6    # 0110 in binary\n",
    "\n",
    "result = a | b\n",
    "print(result)   # Output: 14 (1110 in binary)\n",
    "\n",
    "### Bitwise NOT (~):\n",
    "\n",
    "a = 10  # 00000000000000000000000000001010 in binary (32 bits)\n",
    "\n",
    "result = ~a\n",
    "print(result)  # Output: 11111111111111111111111111110101 (-11)\n"
   ]
  }
 ],
 "metadata": {
  "kernelspec": {
   "display_name": "venv-py-playground",
   "language": "python",
   "name": "python3"
  },
  "language_info": {
   "codemirror_mode": {
    "name": "ipython",
    "version": 3
   },
   "file_extension": ".py",
   "mimetype": "text/x-python",
   "name": "python",
   "nbconvert_exporter": "python",
   "pygments_lexer": "ipython3",
   "version": "3.10.5"
  },
  "orig_nbformat": 4
 },
 "nbformat": 4,
 "nbformat_minor": 2
}
